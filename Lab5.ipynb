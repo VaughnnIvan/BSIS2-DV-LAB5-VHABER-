{
  "nbformat": 4,
  "nbformat_minor": 0,
  "metadata": {
    "colab": {
      "provenance": [],
      "authorship_tag": "ABX9TyPVm5Xblbh4daKdwvGRw1qn",
      "include_colab_link": true
    },
    "kernelspec": {
      "name": "python3",
      "display_name": "Python 3"
    },
    "language_info": {
      "name": "python"
    }
  },
  "cells": [
    {
      "cell_type": "markdown",
      "metadata": {
        "id": "view-in-github",
        "colab_type": "text"
      },
      "source": [
        "<a href=\"https://colab.research.google.com/github/VaughnnIvan/BSIS2-DV-LAB5-VHABER-/blob/main/Lab5.ipynb\" target=\"_parent\"><img src=\"https://colab.research.google.com/assets/colab-badge.svg\" alt=\"Open In Colab\"/></a>"
      ]
    },
    {
      "cell_type": "code",
      "execution_count": 1,
      "metadata": {
        "colab": {
          "base_uri": "https://localhost:8080/"
        },
        "id": "eQco9ytSoG6v",
        "outputId": "77f03a18-425a-4c40-93b8-480fbed85422"
      },
      "outputs": [
        {
          "output_type": "stream",
          "name": "stdout",
          "text": [
            "What is the temperature outside? : 26\n",
            "the temperature is good today\n",
            "can go outside!\n"
          ]
        }
      ],
      "source": [
        "\n",
        "temp = int(input(\"What is the temperature outside? : \"))\n",
        "\n",
        "if temp >= 0 and temp <= 30: \n",
        "  print(\"the temperature is good today\") \n",
        "  print(\"can go outside!\") \n",
        "elif temp < 0 or temp > 30:\n",
        "  print(\"the temperature is bad today!\")\n",
        "  print(\"you must stay inside!\")"
      ]
    },
    {
      "cell_type": "code",
      "source": [
        "\n",
        "temp = int(input(\"What is the temperature outside? : \"))\n",
        "\n",
        "if temp >= 0 and temp <= 30: \n",
        "  print(\"the temperature is good today\") \n",
        "  print(\"can go outside!\") \n",
        "elif temp < 0 or temp > 30:\n",
        "  print(\"the temperature is bad today!\")\n",
        "  print(\"you must stay inside!\")"
      ],
      "metadata": {
        "colab": {
          "base_uri": "https://localhost:8080/"
        },
        "id": "KuaKxzkvofsG",
        "outputId": "71c29451-837c-44d3-f486-c26ed0d85d26"
      },
      "execution_count": 2,
      "outputs": [
        {
          "output_type": "stream",
          "name": "stdout",
          "text": [
            "What is the temperature outside? : 35\n",
            "the temperature is bad today!\n",
            "you must stay inside!\n"
          ]
        }
      ]
    }
  ]
}